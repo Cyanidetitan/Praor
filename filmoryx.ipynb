{
 "cells": [
  {
   "cell_type": "code",
   "execution_count": 228,
   "id": "f50982bb",
   "metadata": {
    "scrolled": false
   },
   "outputs": [
    {
     "name": "stdout",
     "output_type": "stream",
     "text": [
      "Enter Movie Name:happy birthday\n"
     ]
    }
   ],
   "source": [
    "from requests import request\n",
    "from bs4 import BeautifulSoup as soup\n",
    "from pprint import pprint\n",
    "import re\n",
    "import libtorrent\n",
    "import time\n",
    "import sys\n",
    "import os.path\n",
    "import difflib \n",
    "from collections import OrderedDict\n",
    "import itertools\n",
    "\n",
    "\n",
    "def get_latest_movirulz_url(keyword, n_results=1):\n",
    "    headers = {\"User-Agent\": \"Mozilla/5.0\"}\n",
    "    cookies = {\"CONSENT\": \"YES+cb.20210720-07-p0.en+FX+410\"}\n",
    "    query = keyword\n",
    "    query = urllib.parse.quote_plus(query)\n",
    "    number_result = n_results\n",
    "    google_url = \"https://www.google.com/search?q=\" + query + \"&num=\" + str(number_result)\n",
    "    response = requests.get(google_url, headers=headers, cookies=cookies)\n",
    "    soup = BeautifulSoup(response.text, \"html.parser\")\n",
    "    result = soup.find_all('div')\n",
    "    results=[re.search('\\/url\\?q\\=(.*)\\&sa',str(i.find('a', href = True)['href'])) for i in result if \"url\" in str(i)]\n",
    "    links=[i.group(1) for i in results if i != None]\n",
    "    return links[0]\n",
    "\n",
    "movierulz_url = get_latest_movirulz_url('movierulz')+'?s='\n",
    "\n",
    "movie = input(\"Enter Movie Name:\")\n",
    "movie = movie.replace(\" \",\"%20\")\n",
    "\n",
    "url = movierulz_url+movie\n",
    "\n",
    "response = request('GET',url)\n"
   ]
  },
  {
   "cell_type": "code",
   "execution_count": 257,
   "id": "7af5da76",
   "metadata": {
    "scrolled": false
   },
   "outputs": [
    {
     "name": "stdout",
     "output_type": "stream",
     "text": [
      "{1.0: 'Happy Birthday (2022) HDRip Telugu', 0.9411764705882353: 'Happy Birthday (2017) HDRip Telugu', 0.6428571428571429: 'Games Of Karma (Happy Birthday) (2021) HDRip Hindi', 0.30303030303030304: 'Sarileru Neekevvaru (2019) THE INTRO – Happy Birthday Super Star Mahesh Babu – Anil Ravipudi – DSP'}\n",
      "['Happy Birthday (2022) HDRip Telugu', 'Games Of Karma (Happy Birthday) (2021) HDRip Hindi', 'Sarileru Neekevvaru (2019) THE INTRO – Happy Birthday Super Star Mahesh Babu – Anil Ravipudi – DSP', 'Happy Birthday (2017) HDRip Telugu']\n",
      "Happy Birthday (2022) HDRip Telugu Full Movie Watch Online Free \n",
      "\n",
      "[('4.8 gb', '1080p'),\n",
      " ('3.5 gb', '1080p'),\n",
      " ('2 gb', '1080p'),\n",
      " ('1.2 gb', '720p'),\n",
      " ('700 mb', '320p'),\n",
      " ('400 mb', '320p'),\n",
      " ('250 mb', '240p')]\n",
      "{'1.2 gb': 'magnet:?xt=urn:btih:f36a00ae4bfa67d8b42caa29f32b1732617b1cda&xt=urn:btmh:12208fd51426b7b8c9ca06476cb0a6dbf7fe572d7be706e34bb00e6dfaa0f5accd0b&dn=www.7MovieRulz.tc%20-%20Happy%20Birthday%20(2022)%20Telugu%20TRUE%20WEB-DL%20-%20720p%20-%20AVC%20-%20UNTOUCHED%20-%20(DD%2b%205.1%20-%20192Kbps%20%26%20AAC%202.0)%20-%201.2GB%20-%20ESub.mkv&tr=udp%3a%2f%2ftracker.openbittorrent.com%3a80%2fannounce&tr=udp%3a%2f%2f9.rarbg.me%3a2850%2fannounce&tr=udp%3a%2f%2f9.rarbg.to%3a2970%2fannounce&tr=udp%3a%2f%2ftracker.opentrackr.org%3a1337%2fannounce&tr=udp%3a%2f%2ftracker.tiny-vps.com%3a6969%2fannounce&tr=udp%3a%2f%2fopen.stealth.si%3a80%2fannounce&tr=http%3a%2f%2ft.nyaatracker.com%3a80%2fannounce&tr=udp%3a%2f%2fmovies.zsw.ca%3a6969%2fannounce&tr=udp%3a%2f%2fipv4.tracker.harry.lu%3a80%2fannounce&tr=udp%3a%2f%2ffe.dealclub.de%3a6969%2fannounce&tr=udp%3a%2f%2fexplodie.org%3a6969%2fannounce&tr=udp%3a%2f%2fexodus.desync.com%3a6969%2fannounce&tr=udp%3a%2f%2fbt2.archive.org%3a6969%2fannounce&tr=udp%3a%2f%2fbt1.archive.org%3a6969%2fannounce&tr=udp%3a%2f%2fvibe.sleepyinternetfun.xyz%3a1738%2fannounce&tr=udp%3a%2f%2ftsundere.pw%3a6969%2fannounce&tr=udp%3a%2f%2ftracker4.itzmx.com%3a2710%2fannounce&tr=udp%3a%2f%2ftracker2.dler.org%3a80%2fannounce',\n",
      " '2 gb': 'magnet:?xt=urn:btih:5558d9b25aa75fde46483869b01d92eb34ab22cd&xt=urn:btmh:122033c610a1b04bb0e7e3f4e221294fbe3242f645cf90f44111004cef9b4fe4f7b1&dn=www.7MovieRulz.tc%20-%20Happy%20Birthday%20(2022)%20Telugu%20TRUE%20WEB-DL%20-%201080p%20-%20AVC%20-%20UNTOUCHED%20-%20(DD%2b%205.1%20-%20192Kbps%20%26%20AAC%202.0)%20-%202GB%20-%20ESub.mkv&tr=udp%3a%2f%2ftracker.openbittorrent.com%3a80%2fannounce&tr=udp%3a%2f%2f9.rarbg.me%3a2850%2fannounce&tr=udp%3a%2f%2f9.rarbg.to%3a2970%2fannounce&tr=udp%3a%2f%2ftracker.opentrackr.org%3a1337%2fannounce&tr=udp%3a%2f%2ftracker.tiny-vps.com%3a6969%2fannounce&tr=udp%3a%2f%2fopen.stealth.si%3a80%2fannounce&tr=http%3a%2f%2ft.nyaatracker.com%3a80%2fannounce&tr=udp%3a%2f%2fmovies.zsw.ca%3a6969%2fannounce&tr=udp%3a%2f%2fipv4.tracker.harry.lu%3a80%2fannounce&tr=udp%3a%2f%2ffe.dealclub.de%3a6969%2fannounce&tr=udp%3a%2f%2fexplodie.org%3a6969%2fannounce&tr=udp%3a%2f%2fexodus.desync.com%3a6969%2fannounce&tr=udp%3a%2f%2fbt2.archive.org%3a6969%2fannounce&tr=udp%3a%2f%2fbt1.archive.org%3a6969%2fannounce&tr=udp%3a%2f%2fvibe.sleepyinternetfun.xyz%3a1738%2fannounce&tr=udp%3a%2f%2ftsundere.pw%3a6969%2fannounce&tr=udp%3a%2f%2ftracker4.itzmx.com%3a2710%2fannounce&tr=udp%3a%2f%2ftracker2.dler.org%3a80%2fannounce',\n",
      " '250 mb': 'magnet:?xt=urn:btih:9c4221f363422865b42be2365c790dffd625c1dd&xt=urn:btmh:122061cc50e00fc02152c4b452cb0d4bd7f897d397f0811572c4c58578dc8652f584&dn=www.7MovieRulz.tc%20-%20Happy%20Birthday%20(2022)%20Telugu%20HQ%20HDRip%20x264%20AAC%20250MB%20ESub.mkv&tr=udp%3a%2f%2ftracker.openbittorrent.com%3a80%2fannounce&tr=udp%3a%2f%2f9.rarbg.me%3a2850%2fannounce&tr=udp%3a%2f%2f9.rarbg.to%3a2970%2fannounce&tr=udp%3a%2f%2ftracker.opentrackr.org%3a1337%2fannounce&tr=udp%3a%2f%2ftracker.tiny-vps.com%3a6969%2fannounce&tr=udp%3a%2f%2fopen.stealth.si%3a80%2fannounce&tr=http%3a%2f%2ft.nyaatracker.com%3a80%2fannounce&tr=udp%3a%2f%2fmovies.zsw.ca%3a6969%2fannounce&tr=udp%3a%2f%2fipv4.tracker.harry.lu%3a80%2fannounce&tr=udp%3a%2f%2ffe.dealclub.de%3a6969%2fannounce&tr=udp%3a%2f%2fexplodie.org%3a6969%2fannounce&tr=udp%3a%2f%2fexodus.desync.com%3a6969%2fannounce&tr=udp%3a%2f%2fbt2.archive.org%3a6969%2fannounce&tr=udp%3a%2f%2fbt1.archive.org%3a6969%2fannounce&tr=udp%3a%2f%2fvibe.sleepyinternetfun.xyz%3a1738%2fannounce&tr=udp%3a%2f%2ftsundere.pw%3a6969%2fannounce&tr=udp%3a%2f%2ftracker4.itzmx.com%3a2710%2fannounce&tr=udp%3a%2f%2ftracker2.dler.org%3a80%2fannounce',\n",
      " '3.5 gb': 'magnet:?xt=urn:btih:ac9562e948ab9808b8d4692933219e3b0737a699&xt=urn:btmh:12203af20bb8063b12a16e2378c4def66f449314e47336dd26b95e350d273c31f8b2&dn=www.7MovieRulz.tc%20-%20Happy%20Birthday%20(2022)%20Telugu%20TRUE%20WEB-DL%20-%201080p%20HQ%20-%20AVC%20-%20UNTOUCHED%20-%20(DD%2b%205.1%20-%20640Kbps%20%26%20AAC%202.0)%20-%203.5GB%20-%20ESub.mkv&tr=udp%3a%2f%2ftracker.openbittorrent.com%3a80%2fannounce&tr=udp%3a%2f%2f9.rarbg.me%3a2850%2fannounce&tr=udp%3a%2f%2f9.rarbg.to%3a2970%2fannounce&tr=udp%3a%2f%2ftracker.opentrackr.org%3a1337%2fannounce&tr=udp%3a%2f%2ftracker.tiny-vps.com%3a6969%2fannounce&tr=udp%3a%2f%2fopen.stealth.si%3a80%2fannounce&tr=http%3a%2f%2ft.nyaatracker.com%3a80%2fannounce&tr=udp%3a%2f%2fmovies.zsw.ca%3a6969%2fannounce&tr=udp%3a%2f%2fipv4.tracker.harry.lu%3a80%2fannounce&tr=udp%3a%2f%2ffe.dealclub.de%3a6969%2fannounce&tr=udp%3a%2f%2fexplodie.org%3a6969%2fannounce&tr=udp%3a%2f%2fexodus.desync.com%3a6969%2fannounce&tr=udp%3a%2f%2fbt2.archive.org%3a6969%2fannounce&tr=udp%3a%2f%2fbt1.archive.org%3a6969%2fannounce&tr=udp%3a%2f%2fvibe.sleepyinternetfun.xyz%3a1738%2fannounce&tr=udp%3a%2f%2ftsundere.pw%3a6969%2fannounce&tr=udp%3a%2f%2ftracker4.itzmx.com%3a2710%2fannounce&tr=udp%3a%2f%2ftracker2.dler.org%3a80%2fannounce',\n",
      " '4.8 gb': 'magnet:?xt=urn:btih:e9d164f4740ae8ef3eb89c84fe727274b2412fba&xt=urn:btmh:12208d1f4d4533ce6c1d590e8677c1388684be0f34e2fef871133e213a2b1d728b24&dn=www.7MovieRulz.tc%20-%20Happy%20Birthday%20(2022)%20Telugu%20TRUE%20WEB-DL%20-%201080p%20HQ%20-%20AVC%20-%20UNTOUCHED%20-%20(DD%2b%205.1%20-%20640Kbps%20%26%20AAC%202.0)%20-%204.8GB%20-%20ESub.mkv&tr=udp%3a%2f%2ftracker.openbittorrent.com%3a80%2fannounce&tr=udp%3a%2f%2f9.rarbg.me%3a2850%2fannounce&tr=udp%3a%2f%2f9.rarbg.to%3a2970%2fannounce&tr=udp%3a%2f%2ftracker.opentrackr.org%3a1337%2fannounce&tr=udp%3a%2f%2ftracker.tiny-vps.com%3a6969%2fannounce&tr=udp%3a%2f%2fopen.stealth.si%3a80%2fannounce&tr=http%3a%2f%2ft.nyaatracker.com%3a80%2fannounce&tr=udp%3a%2f%2fmovies.zsw.ca%3a6969%2fannounce&tr=udp%3a%2f%2fipv4.tracker.harry.lu%3a80%2fannounce&tr=udp%3a%2f%2ffe.dealclub.de%3a6969%2fannounce&tr=udp%3a%2f%2fexplodie.org%3a6969%2fannounce&tr=udp%3a%2f%2fexodus.desync.com%3a6969%2fannounce&tr=udp%3a%2f%2fbt2.archive.org%3a6969%2fannounce&tr=udp%3a%2f%2fbt1.archive.org%3a6969%2fannounce&tr=udp%3a%2f%2fvibe.sleepyinternetfun.xyz%3a1738%2fannounce&tr=udp%3a%2f%2ftsundere.pw%3a6969%2fannounce&tr=udp%3a%2f%2ftracker4.itzmx.com%3a2710%2fannounce&tr=udp%3a%2f%2ftracker2.dler.org%3a80%2fannounce',\n",
      " '400 mb': 'magnet:?xt=urn:btih:b1ff994b8d33f6f1ebee45105179fc0871767315&xt=urn:btmh:12201bba1c4a82fbe90565cafe69e75868b9a58795a8718ade9a8234b4350572cc6a&dn=www.7MovieRulz.tc%20-%20Happy%20Birthday%20(2022)%20Telugu%20HQ%20HDRip%20x264%20AAC%20400MB%20ESub.mkv&tr=udp%3a%2f%2ftracker.openbittorrent.com%3a80%2fannounce&tr=udp%3a%2f%2f9.rarbg.me%3a2850%2fannounce&tr=udp%3a%2f%2f9.rarbg.to%3a2970%2fannounce&tr=udp%3a%2f%2ftracker.opentrackr.org%3a1337%2fannounce&tr=udp%3a%2f%2ftracker.tiny-vps.com%3a6969%2fannounce&tr=udp%3a%2f%2fopen.stealth.si%3a80%2fannounce&tr=http%3a%2f%2ft.nyaatracker.com%3a80%2fannounce&tr=udp%3a%2f%2fmovies.zsw.ca%3a6969%2fannounce&tr=udp%3a%2f%2fipv4.tracker.harry.lu%3a80%2fannounce&tr=udp%3a%2f%2ffe.dealclub.de%3a6969%2fannounce&tr=udp%3a%2f%2fexplodie.org%3a6969%2fannounce&tr=udp%3a%2f%2fexodus.desync.com%3a6969%2fannounce&tr=udp%3a%2f%2fbt2.archive.org%3a6969%2fannounce&tr=udp%3a%2f%2fbt1.archive.org%3a6969%2fannounce&tr=udp%3a%2f%2fvibe.sleepyinternetfun.xyz%3a1738%2fannounce&tr=udp%3a%2f%2ftsundere.pw%3a6969%2fannounce&tr=udp%3a%2f%2ftracker4.itzmx.com%3a2710%2fannounce&tr=udp%3a%2f%2ftracker2.dler.org%3a80%2fannounce',\n",
      " '700 mb': 'magnet:?xt=urn:btih:cc6baf0da0a6bd75f4d9424a97ff0e25316e665d&xt=urn:btmh:1220fadf29008d833ac7ecba6a97eb56ba80cfd38672e0c2268a0426eb3b3449a1df&dn=www.7MovieRulz.tc%20-%20Happy%20Birthday%20(2022)%20Telugu%20HQ%20HDRip%20x264%20AAC%20700MB%20ESub.mkv&tr=udp%3a%2f%2ftracker.openbittorrent.com%3a80%2fannounce&tr=udp%3a%2f%2f9.rarbg.me%3a2850%2fannounce&tr=udp%3a%2f%2f9.rarbg.to%3a2970%2fannounce&tr=udp%3a%2f%2ftracker.opentrackr.org%3a1337%2fannounce&tr=udp%3a%2f%2ftracker.tiny-vps.com%3a6969%2fannounce&tr=udp%3a%2f%2fopen.stealth.si%3a80%2fannounce&tr=http%3a%2f%2ft.nyaatracker.com%3a80%2fannounce&tr=udp%3a%2f%2fmovies.zsw.ca%3a6969%2fannounce&tr=udp%3a%2f%2fipv4.tracker.harry.lu%3a80%2fannounce&tr=udp%3a%2f%2ffe.dealclub.de%3a6969%2fannounce&tr=udp%3a%2f%2fexplodie.org%3a6969%2fannounce&tr=udp%3a%2f%2fexodus.desync.com%3a6969%2fannounce&tr=udp%3a%2f%2fbt2.archive.org%3a6969%2fannounce&tr=udp%3a%2f%2fbt1.archive.org%3a6969%2fannounce&tr=udp%3a%2f%2fvibe.sleepyinternetfun.xyz%3a1738%2fannounce&tr=udp%3a%2f%2ftsundere.pw%3a6969%2fannounce&tr=udp%3a%2f%2ftracker4.itzmx.com%3a2710%2fannounce&tr=udp%3a%2f%2ftracker2.dler.org%3a80%2fannounce'}\n"
     ]
    }
   ],
   "source": [
    "html_page_soup_1 = soup(response.text, \"html.parser\")\n",
    "search_container = html_page_soup_1.findAll(\"div\", {\"class\": \"content home_style\"})\n",
    "try:\n",
    "    movie_titles =  search_container[0].findAll(\"b\")\n",
    "except:\n",
    "    print(\"could'nt find movie\")\n",
    "movie_title_ls = [] ; trimmed_movie_title_ls = []\n",
    "\n",
    "rep = {\"Full\": \"\", \"Movie\": \"\",\"Watch\":\" \",\"Online\":\"\",\"Free\":\"\"}\n",
    "rep = dict((re.escape(k), v) for k, v in rep.items()) \n",
    "pattern = re.compile(\"|\".join(rep.keys()))\n",
    "\n",
    "for i in movie_titles:\n",
    "    movie_title_ls.append(i.text.strip())\n",
    "    trimmed_movie_name = pattern.sub(lambda m: rep[re.escape(m.group(0))],i.text.strip())\n",
    "    trimmed_movie_title_ls.append(trimmed_movie_name.strip())\n",
    "    \n",
    "if len(trimmed_movie_title_ls)==1:\n",
    "    best_match = trimmed_movie_title_ls[0]\n",
    "else:\n",
    "    best_match = difflib.get_close_matches(movie,trimmed_movie_title_ls,n=1,cutoff=0.2)[0]\n",
    "\n",
    "close_results=dict()\n",
    "for _ in trimmed_movie_title_ls:\n",
    "    score = difflib.SequenceMatcher(None, _, best_match).ratio()\n",
    "    close_results.update({score:_})\n",
    "close_results = OrderedDict(sorted(close_results.items(),reverse=True))   \n",
    "close_results = dict(itertools.islice(close_results.items(), 5))\n",
    "print(close_results)\n",
    "\n",
    "print(trimmed_movie_title_ls)\n",
    "\n",
    "get_torrent(trimmed_movie_title_ls[0])"
   ]
  },
  {
   "cell_type": "code",
   "execution_count": 226,
   "id": "2df5eef1",
   "metadata": {},
   "outputs": [],
   "source": [
    "def mag2tor(name,mag_link):\n",
    "    sess = libtorrent.session()\n",
    "    prms = {\n",
    "        'save_path':os.path.abspath(os.path.curdir),\n",
    "    }\n",
    "    torr = libtorrent.add_magnet_uri(sess, mag_link, prms)\n",
    "    dots = 0\n",
    "    while not torr.has_metadata():\n",
    "        dots += 1\n",
    "        sys.stdout.write('.')\n",
    "        sys.stdout.flush()\n",
    "    if (dots): sys.stdout.write('\\n')\n",
    "    sess.pause()\n",
    "    tinf = torr.get_torrent_info()\n",
    "    f = open(name + '.torrent', 'wb')\n",
    "    f.write(libtorrent.bencode(\n",
    "        libtorrent.create_torrent(tinf).generate()))\n",
    "    f.close()\n"
   ]
  },
  {
   "cell_type": "code",
   "execution_count": 256,
   "id": "9e5208aa",
   "metadata": {
    "scrolled": false
   },
   "outputs": [],
   "source": [
    "def get_torrent(movie_name):\n",
    "    \n",
    "    movie = movie_name.replace(\" \",\"-\")\n",
    "    base_url= \"https://ww5.7movierulz.tc/\"\n",
    "    url = base_url+movie\n",
    "    response = request('GET',url)\n",
    "    \n",
    "    html_page_soup = soup(response.text, \"html.parser\")\n",
    "    container = html_page_soup.findAll(\"a\", {\"class\": \"mv_button_css\"})\n",
    "    movie_title = html_page_soup.findAll(\"h2\", {\"class\": \"entry-title\"})\n",
    "\n",
    "    torrent_quality = html_page_soup.findAll(\"small\")\n",
    "    movie_title = movie_title[0].text.strip()\n",
    "    print(movie_title,\"\\n\")\n",
    "\n",
    "    torrent_size_ls = [] ; torrent_resolution_ls = [] ; magnet_link_ls = [] ; magnets = dict()\n",
    "    for i,torrent in enumerate(torrent_quality):\n",
    "        if i%2==0:\n",
    "            torrent_size_ls.append(torrent.text.strip())\n",
    "        else:\n",
    "            torrent_resolution_ls.append(torrent.text.strip())\n",
    "\n",
    "    torrent_info = dict(zip(torrent_size_ls,torrent_resolution_ls))\n",
    "    \n",
    "    keyorder = ['8K','4K','4K SDR','1080p','1440p','720p', '480p', '320p','240p','144p']\n",
    "    torrent_info = sorted(torrent_info.items(), key=lambda i:keyorder.index(i[1]))\n",
    "    \n",
    "    pprint(torrent_info)\n",
    "    for link in container:\n",
    "        magnet_link_ls.append(link.get('href'))\n",
    "\n",
    "    for i,j in zip(magnet_link_ls,torrent_info):\n",
    "        magnets.update({j[0]:i})\n",
    "\n",
    "    pprint(magnets)\n",
    "    #mag2tor(trimmed_movie_title_ls[0],magnets['700 mb'])\n",
    "    \n"
   ]
  },
  {
   "cell_type": "code",
   "execution_count": null,
   "id": "40ed7d01",
   "metadata": {},
   "outputs": [],
   "source": []
  },
  {
   "cell_type": "code",
   "execution_count": null,
   "id": "21bd3f43",
   "metadata": {},
   "outputs": [],
   "source": []
  }
 ],
 "metadata": {
  "kernelspec": {
   "display_name": "Python 3 (ipykernel)",
   "language": "python",
   "name": "python3"
  },
  "language_info": {
   "codemirror_mode": {
    "name": "ipython",
    "version": 3
   },
   "file_extension": ".py",
   "mimetype": "text/x-python",
   "name": "python",
   "nbconvert_exporter": "python",
   "pygments_lexer": "ipython3",
   "version": "3.9.7"
  }
 },
 "nbformat": 4,
 "nbformat_minor": 5
}
