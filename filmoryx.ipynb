{
 "cells": [
  {
   "cell_type": "code",
   "execution_count": 47,
   "id": "f50982bb",
   "metadata": {
    "scrolled": false
   },
   "outputs": [
    {
     "name": "stdout",
     "output_type": "stream",
     "text": [
      "Enter Movie Name:skylab\n"
     ]
    }
   ],
   "source": [
    "import requests\n",
    "from requests import request\n",
    "from bs4 import BeautifulSoup as soup\n",
    "from pprint import pprint\n",
    "import re\n",
    "import libtorrent\n",
    "import time\n",
    "import sys\n",
    "import os.path\n",
    "import difflib \n",
    "from collections import OrderedDict\n",
    "import itertools\n",
    "import urllib\n",
    "from pprint import pprint\n",
    "\n",
    "\n",
    "def get_latest_movirulz_url(keyword, n_results=1):\n",
    "    headers = {\"User-Agent\": \"Mozilla/5.0\"}\n",
    "    cookies = {\"CONSENT\": \"YES+cb.20210720-07-p0.en+FX+410\"}\n",
    "    query = keyword\n",
    "    query = urllib.parse.quote_plus(query)\n",
    "    number_result = n_results\n",
    "    google_url = \"https://www.google.com/search?q=\" + query + \"&num=\" + str(number_result)\n",
    "    response = requests.get(google_url, headers=headers, cookies=cookies)\n",
    "    soupp = soup(response.text, \"html.parser\")\n",
    "    result = soupp.find_all('div')\n",
    "    results=[re.search('\\/url\\?q\\=(.*)\\&sa',str(i.find('a', href = True)['href'])) for i in result if \"url\" in str(i)]\n",
    "    links=[i.group(1) for i in results if i != None]\n",
    "    return links[0]\n",
    "\n",
    "movierulz_url = get_latest_movirulz_url('movierulz')+'?s='\n",
    "\n",
    "movie = input(\"Enter Movie Name:\")\n",
    "movie = movie.replace(\" \",\"%20\")\n",
    "\n",
    "url = movierulz_url+movie\n",
    "\n",
    "response = request('GET',url)\n"
   ]
  },
  {
   "cell_type": "code",
   "execution_count": 57,
   "id": "7af5da76",
   "metadata": {
    "scrolled": false
   },
   "outputs": [
    {
     "name": "stdout",
     "output_type": "stream",
     "text": [
      "close_results_ls: ['Skylab (2021) HDRip Original [Telugu + Tamil + Malayalam + Kannada]']\n",
      "'Skylab (2021) HDRip Original [Telugu + Tamil + Malayalam + Kannada]'\n",
      "Skylab-(2021)-HDRip-Original-Telugu-+-Tamil-+-Malayalam-+-Kannada\n",
      "[<small>2.1 gb</small>, <small>1080p</small>, <small>1.5 gb</small>, <small>1080p</small>, <small>1.2 gb</small>, <small>720p</small>, <small>850 mb</small>, <small>720p</small>, <small>700 mb</small>, <small>320p</small>, <small>450 mb</small>, <small>320p</small>, <small>250 mb</small>, <small>240p</small>] \n",
      "\n",
      "[('2.1 gb', '1080p'),\n",
      " ('1.5 gb', '1080p'),\n",
      " ('1.2 gb', '720p'),\n",
      " ('850 mb', '720p'),\n",
      " ('700 mb', '320p'),\n",
      " ('450 mb', '320p'),\n",
      " ('250 mb', '240p')]\n"
     ]
    }
   ],
   "source": [
    "html_page_soup_1 = soup(response.text, \"html.parser\")\n",
    "search_container = html_page_soup_1.findAll(\"div\", {\"class\": \"content home_style\"})\n",
    "try:\n",
    "    movie_titles =  search_container[0].findAll(\"b\")\n",
    "except:\n",
    "    print(\"could'nt find movie\")\n",
    "movie_title_ls = [] ; trimmed_movie_title_ls = []\n",
    "\n",
    "rep = {\"Full\": \"\", \"Movie\": \"\",\"Watch\":\" \",\"Online\":\"\",\"Free\":\"\"}\n",
    "rep = dict((re.escape(k), v) for k, v in rep.items()) \n",
    "pattern = re.compile(\"|\".join(rep.keys()))\n",
    "\n",
    "for i in movie_titles:\n",
    "    movie_title_ls.append(i.text.strip())\n",
    "    trimmed_movie_name = pattern.sub(lambda m: rep[re.escape(m.group(0))],i.text.strip())\n",
    "    trimmed_movie_title_ls.append(trimmed_movie_name.strip())\n",
    "    \n",
    "if len(trimmed_movie_title_ls)==1:\n",
    "    best_match = trimmed_movie_title_ls[0]\n",
    "else:\n",
    "    best_match = difflib.get_close_matches(movie,trimmed_movie_title_ls,n=1,cutoff=0.2)[0]\n",
    "\n",
    "close_results=dict()\n",
    "for _ in trimmed_movie_title_ls:\n",
    "    score = difflib.SequenceMatcher(None, _, best_match).ratio()\n",
    "    close_results.update({score:_})\n",
    "close_results = OrderedDict(sorted(close_results.items(),reverse=True))   \n",
    "close_results = dict(itertools.islice(close_results.items(), 5))\n",
    "#print(close_results)\n",
    "\n",
    "close_results_ls = [*close_results.values()]\n",
    "print(\"close_results_ls:\", close_results_ls)\n",
    "\n",
    "pprint(close_results_ls[0])\n",
    "\n",
    "get_torrent(close_results_ls[0])"
   ]
  },
  {
   "cell_type": "code",
   "execution_count": 56,
   "id": "9e5208aa",
   "metadata": {
    "scrolled": false
   },
   "outputs": [],
   "source": [
    "def get_torrent(movie_name):\n",
    "    \n",
    "    movie = movie_name.replace(\"[\",\"\")\n",
    "    movie = movie.replace(\"]\",\"\")\n",
    "    movie = movie.replace(\" \",\"-\")\n",
    "    \n",
    "    base_url= \"https://ww5.7movierulz.tc/\"\n",
    "    url = base_url+movie\n",
    "    response = request('GET',url)\n",
    "    print(movie)\n",
    "    html_page_soup = soup(response.text, \"html.parser\")\n",
    "    container = html_page_soup.findAll(\"a\", {\"class\": \"mv_button_css\"})\n",
    "    movie_title = html_page_soup.findAll(\"h2\", {\"class\": \"entry-title\"})\n",
    "\n",
    "    torrent_quality = html_page_soup.findAll(\"small\")\n",
    "    movie_title = movie_title[0].text.strip()\n",
    "    \n",
    "    print(torrent_quality,\"\\n\")\n",
    "\n",
    "    torrent_size_ls = [] ; torrent_resolution_ls = [] ; magnet_link_ls = [] ; magnets = dict()\n",
    "    for i,torrent in enumerate(torrent_quality):\n",
    "        if i%2==0:\n",
    "            torrent_size_ls.append(torrent.text.strip())\n",
    "        else:\n",
    "            torrent_resolution_ls.append(torrent.text.strip())\n",
    "\n",
    "    torrent_info = dict(zip(torrent_size_ls,torrent_resolution_ls))\n",
    "    \n",
    "    keyorder = ['8K','4K','4K SDR','1080p','1440p','720p', '480p', '320p','240p','144p']\n",
    "    torrent_info = sorted(torrent_info.items(), key=lambda i:keyorder.index(i[1]))\n",
    "    \n",
    "    pprint(torrent_info)\n",
    "    for link in container:\n",
    "        magnet_link_ls.append(link.get('href'))\n",
    "\n",
    "    for i,j in zip(magnet_link_ls,torrent_info):\n",
    "        magnets.update({j[0]:i})\n",
    "\n",
    "    #pprint(magnets)\n",
    "    \n"
   ]
  },
  {
   "cell_type": "code",
   "execution_count": null,
   "id": "40ed7d01",
   "metadata": {},
   "outputs": [],
   "source": [
    "def mag2tor(name,mag_link):\n",
    "    sess = libtorrent.session()\n",
    "    prms = {\n",
    "        'save_path':os.path.abspath(os.path.curdir),\n",
    "    }\n",
    "    torr = libtorrent.add_magnet_uri(sess, mag_link, prms)\n",
    "    dots = 0\n",
    "    while not torr.has_metadata():\n",
    "        dots += 1\n",
    "        sys.stdout.write('.')\n",
    "        sys.stdout.flush()\n",
    "    if (dots): sys.stdout.write('\\n')\n",
    "    sess.pause()\n",
    "    tinf = torr.get_torrent_info()\n",
    "    f = open(name + '.torrent', 'wb')\n",
    "    f.write(libtorrent.bencode(\n",
    "        libtorrent.create_torrent(tinf).generate()))\n",
    "    f.close()"
   ]
  },
  {
   "cell_type": "code",
   "execution_count": null,
   "id": "21bd3f43",
   "metadata": {},
   "outputs": [],
   "source": []
  }
 ],
 "metadata": {
  "kernelspec": {
   "display_name": "Python 3 (ipykernel)",
   "language": "python",
   "name": "python3"
  },
  "language_info": {
   "codemirror_mode": {
    "name": "ipython",
    "version": 3
   },
   "file_extension": ".py",
   "mimetype": "text/x-python",
   "name": "python",
   "nbconvert_exporter": "python",
   "pygments_lexer": "ipython3",
   "version": "3.9.7"
  }
 },
 "nbformat": 4,
 "nbformat_minor": 5
}
